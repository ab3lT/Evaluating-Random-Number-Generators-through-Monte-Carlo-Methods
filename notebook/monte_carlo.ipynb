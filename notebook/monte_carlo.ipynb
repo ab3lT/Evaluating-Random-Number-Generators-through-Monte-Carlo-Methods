{
 "cells": [
  {
   "cell_type": "code",
   "execution_count": 1,
   "metadata": {},
   "outputs": [],
   "source": [
    "import random\n",
    "\n",
    "\n",
    "def random_around_zero(r):\n",
    "    \"\"\"\n",
    "    Return a random float in the range [-r, r]\n",
    "    \"\"\"\n",
    "    width = 2 * r\n",
    "    return random.random() * width - r"
   ]
  },
  {
   "cell_type": "code",
   "execution_count": 2,
   "metadata": {},
   "outputs": [],
   "source": [
    "def random_throw(r):\n",
    "    \"\"\"\n",
    "    Return a random float in the range [-r, r]\n",
    "    \"\"\"\n",
    "    x = random_around_zero(r)\n",
    "    y = random_around_zero(r)\n",
    "    return x, y"
   ]
  },
  {
   "cell_type": "code",
   "execution_count": 3,
   "metadata": {},
   "outputs": [],
   "source": [
    "def in_circle(x, y, r):\n",
    "    \"\"\"\n",
    "    Return True if (x, y) is in a circle with radius r\n",
    "    centered at 0. Otherwise False.\n",
    "    \"\"\"\n",
    "    distance_from_center = (x * x + y * y) ** 0.5\n",
    "    return distance_from_center <= r"
   ]
  },
  {
   "cell_type": "code",
   "execution_count": 7,
   "metadata": {},
   "outputs": [],
   "source": [
    "def number_in_circle(n, r=0.5):\n",
    "    \"\"\"\n",
    "    Test n_total random points (x, y) in a square with\n",
    "    sides 2r and return the number of points that are\n",
    "    inside a circle of radius r.\n",
    "    \"\"\"\n",
    "    count = 0\n",
    "    for _ in range(n):\n",
    "        x, y = random_throw(r)\n",
    "        if in_circle(x, y, r):\n",
    "            count += 1\n",
    "    return count"
   ]
  },
  {
   "cell_type": "code",
   "execution_count": 8,
   "metadata": {},
   "outputs": [],
   "source": [
    "def main():\n",
    "    for i in range(9):\n",
    "        n_total = 10 ** i\n",
    "        n_circle = number_in_circle(n_total)\n",
    "        pi_approx = 4 * n_circle / n_total\n",
    "        print( '1X10^'+ str(i) + ':', pi_approx)"
   ]
  },
  {
   "cell_type": "code",
   "execution_count": 9,
   "metadata": {},
   "outputs": [
    {
     "name": "stdout",
     "output_type": "stream",
     "text": [
      "1X10^0: 4.0\n",
      "1X10^1: 3.2\n",
      "1X10^2: 3.28\n",
      "1X10^3: 3.152\n",
      "1X10^4: 3.1244\n",
      "1X10^5: 3.13476\n",
      "1X10^6: 3.142076\n",
      "1X10^7: 3.141248\n",
      "1X10^8: 3.14143492\n"
     ]
    }
   ],
   "source": [
    "main()"
   ]
  }
 ],
 "metadata": {
  "kernelspec": {
   "display_name": ".venv",
   "language": "python",
   "name": "python3"
  },
  "language_info": {
   "codemirror_mode": {
    "name": "ipython",
    "version": 3
   },
   "file_extension": ".py",
   "mimetype": "text/x-python",
   "name": "python",
   "nbconvert_exporter": "python",
   "pygments_lexer": "ipython3",
   "version": "3.12.3"
  }
 },
 "nbformat": 4,
 "nbformat_minor": 2
}
